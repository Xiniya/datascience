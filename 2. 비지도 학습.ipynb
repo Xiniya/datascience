{
 "cells": [
  {
   "cell_type": "markdown",
   "id": "cecd382f",
   "metadata": {},
   "source": [
    "# 2. 비지도 학습\n",
    "## 1. 연관규칙학습 (패턴인식): 장바구니분석(Apriori, FP Growth, FPV, Eclat), 연관규칙, 서열분석 (순차패턴, 시차-연관분석; Sequence Analysis)\n",
    "## 2. 주성분분석(Scree plot, 누적기여율, 주성분 별 가중치, Biplot) 및 요인분석\n",
    "    - 차원축소, 특성추출, 매니폴드학습, PCA, NMF\n",
    "## 3. 군집분석\n",
    "    - 계층적군집: 합병형 Bottom-up 방식(최단연결법, 평균연결법, 와드연결법, 최장연결밥, 중심연결법), 분리형 top-down 방식 (다이아나 방법), 덴드로그램\n",
    "    - 분할적 군집(비계층적군집): 프로토타입 centroid-based (K-centroid 군집, K-means 군집, K-median 군집, K-medoid 군집, Fuzzy 군집), 분포기반GMM(혼합분포군집; EM알고리즘, 로그-가능도 함수), 밀도기반(중심밀도군집, DBSCAN, OPTICS, DENCLUE), 격자기반(STING, WaveCluster, CLIQUE)\n",
    "    - 거리: 유클리디안 거리, 마할라노비스 거리, 체비셰프 거리, 맨하탄 거리, 캔버라 거리, 민코우스키 거리, 자카드 거리, 코사인 거리\n",
    "    - SOM\n",
    "    - 타당성지표: 실루엣 계수, Dunn Index\n",
    "## 4. 사회연결망분석 (Social network)\n",
    "    - 네트워크 구조 파악: 중심성, 밀도, 구조적틈새, 집중도 등\n",
    "    - 커뮤니티 발견: walk trap, edge-betweenness\n",
    "    - Giraph 등\n"
   ]
  },
  {
   "cell_type": "code",
   "execution_count": null,
   "id": "6b677971",
   "metadata": {},
   "outputs": [],
   "source": []
  }
 ],
 "metadata": {
  "kernelspec": {
   "display_name": "Python 3 (ipykernel)",
   "language": "python",
   "name": "python3"
  },
  "language_info": {
   "codemirror_mode": {
    "name": "ipython",
    "version": 3
   },
   "file_extension": ".py",
   "mimetype": "text/x-python",
   "name": "python",
   "nbconvert_exporter": "python",
   "pygments_lexer": "ipython3",
   "version": "3.9.7"
  }
 },
 "nbformat": 4,
 "nbformat_minor": 5
}
