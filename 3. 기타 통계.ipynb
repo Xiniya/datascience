{
 "cells": [
  {
   "cell_type": "markdown",
   "id": "144ee56c",
   "metadata": {},
   "source": [
    "# 3. 기타 통계\n",
    "\n",
    "## 1. 탐색적 자료 분석: 요약, 기술통계 (평균, 표준편차, 중위수, 사분위수, 변동계수, 최빈값, 그래프, 왜도, 첨도), 줄기잎그림, 도넛차트, 히스토그램, 상자수염 그림\n",
    "## 2. 데이터와 표본분포 (정규분포, T분포, F분포, 이항분포, 포아송 분포 등)\n",
    "## 3. 유의성검정:\n",
    "### 1. t-test\n",
    "    - 정규성검정: 콜모고로프 스미르노프 검정, QQ도, Anderson-Darling test, 샤크로-윌크 검정\n",
    "    - 등분산검정\n",
    "    - 등분산성만족 못할시: Welch two sample t-test\n",
    "    - 일표본 T검정, 대응표본 t검정, 독립표본 t검정\n",
    "### 2. 분산분석(ANOVA)\n",
    "    - 일원배치 분산분석: 분산분석표, 사후분석(던칸의 MRT, 피셔의 LSD, Scheffe의 방법)\n",
    "    - 이원배치 분산분석: 분산분석표, 교호작용\n",
    "### 3. 교차분석: 적합도 검정, 독립성 검정(교차표), 동질성 검정(교차표)\n",
    "### 4. 다중검정\n",
    "### 5. 공분산, 상관분석 (피어슨, 스피어만, 켄달 타우, 상관계수 검정)\n",
    "## 4. 시계열분석:\n",
    "    - 분해시계열, ARIMA모델 (ACF/PACF를 통한 모델 결정)\n",
    "    - ARIMA(p,d,q) - 정상성 (ADF, KPSS test), 차분, ACF, PACF, Ljung-Box test\n",
    "    - SARIMA(p,d,q)(P,D,Q)[s]\n",
    "## 5. 다차원척도법: 계량적MDS, 비계량적 MDS\n",
    "## 6. 비모수검정: 부호검정, 윌콕슨의 순위합 검정, 윌콕슨의 부호순위합검정, 만위트니의 U검정, 런검정\n",
    "## 7. 성과분석\n",
    "    - 분류분석: 정분류율, 오분류율, 특이도, 민감도, 정확도, 재현율, F1 Score, RoC Curve, AUROC, Lift Chart (Frequency of buy, captured response, response, lift), cross validation\n",
    "    - 연관성분석: 지지도, 신뢰도, 향상도\n",
    "    - Bias-variance Trade-off\n",
    "    - 과대적합, 과소적합, 일반화\n",
    " \n",
    "## 2. 텍스트마이닝\n",
    "### 1. 말뭉치 전처리와 가공, 텍스트 벡터화와 변환 파이프라인, 텍스트 데이터 플래트닝, 필터링, 청킹\n",
    "    - Tokenization, Pos Tagging, Stemming/Lemmazation, Remove Stopwords, One-hot encoding, N-Gram, TF-IDF, Cosine Similarity\n",
    "### 2. 텍스트 분석을 위한 분류, 텍스트 유사성 군집화, 문맥인식 텍스트 분석\n",
    "### 3. 텍스트 시각화, 텍스트 그래프 분석\n",
    "### 4. 감성분석\n",
    "### 5. 워드클라우드 분석\n",
    "### 6. 텍스트마이닝 모델링\n",
    "    - 나이브 베이지안 분류\n",
    "    - LDA (Latent Dirichlet Allocation)\n",
    "    - Word2Vec\n",
    "    - Perplexity\n",
    " \n",
    "## 3.  데이터 가공 및 시각화\n",
    "### 1. 전처리\n",
    "    - 결측값 처리: 단순대치, 평균 대치, 단순확률 대치 (Hot-deck, nearest neighbor), 다중 대치, knnImputation, centralimputation\n",
    "    - 클래스불균형: 업샘플링 (SMOTE, Boaderline SMOTE, Adasyn), 다운샘플링\n",
    "    - 이상값 처리: 극단값 절단, 조정\n",
    "    - 변수 변환, 스케일링: 수치형 변수 변환(로그변환, 제곱근변환, 지수변환, 제곱변환, Box-cox 변환, 표준화, 정규화), 범주형 변수 변환(범주형 변수 인코딩, 대규모 범주형 변수처리), 날짜 및 변수 변환,  피쳐스케일링\n",
    "    - 원핫인코딩(더미변수), 컬럼 트랜스퍼, 구간분할, 이산화, 피쳐선택\n",
    "### 2. 표본 추출: 단순랜덤 추출법, 계통추출법, 집락추출법, 층화추출법\n",
    "### 3. 데이터 분할: 구축/검정/시험용, 홀드아웃방법, 교차확인방법 (10 fold 교차분석), 부트스트랩\n",
    "### 4. 그래프 그리기:\n",
    "    - 산점도, 막대그래프, 선그래프, 히트맵, 서브플롯, 트리맵, 도넛차트, 버블차트, 히스토그램, 체르노프 페이스, 스타차트, 다차원척도법, 평행좌표계\n",
    "    - 도식화와 시각화\n",
    " \n",
    "## 4. 기타\n",
    "    - Numpy 배열과 벡터 계산, Pandas 시작하기\n",
    "    - 모델구축, 모델튜닝 (하이퍼파라미터), 그리드서치, 기타기법\n"
   ]
  },
  {
   "cell_type": "code",
   "execution_count": null,
   "id": "321eafaf",
   "metadata": {},
   "outputs": [],
   "source": []
  }
 ],
 "metadata": {
  "kernelspec": {
   "display_name": "Python 3 (ipykernel)",
   "language": "python",
   "name": "python3"
  },
  "language_info": {
   "codemirror_mode": {
    "name": "ipython",
    "version": 3
   },
   "file_extension": ".py",
   "mimetype": "text/x-python",
   "name": "python",
   "nbconvert_exporter": "python",
   "pygments_lexer": "ipython3",
   "version": "3.9.7"
  }
 },
 "nbformat": 4,
 "nbformat_minor": 5
}
