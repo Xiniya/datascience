{
 "cells": [
  {
   "cell_type": "markdown",
   "id": "dcb3d50a",
   "metadata": {},
   "source": [
    "# 11. 통계적 가설검정\n",
    "- 통계적 가설검정: 모집단의 모수에 관하여 두 가지 가설을 세우고, 표본으로부터 계산되는 통계량을 이용하여 어느 가설이 옳은 지 판단하는 통계적인 방법"
   ]
  },
  {
   "cell_type": "code",
   "execution_count": 1,
   "id": "867e50af",
   "metadata": {},
   "outputs": [],
   "source": [
    "import numpy as np\n",
    "import pandas as pd\n",
    "from scipy import stats\n",
    "\n",
    "%precision 3\n",
    "np.random.seed(1111)"
   ]
  },
  {
   "cell_type": "code",
   "execution_count": 2,
   "id": "88022109",
   "metadata": {},
   "outputs": [],
   "source": [
    "df = pd.read_csv('/Users/benny/Desktop/datascience/python_stat_sample-master/data/ch11_potato.csv')"
   ]
  },
  {
   "cell_type": "code",
   "execution_count": 4,
   "id": "988eaa77",
   "metadata": {},
   "outputs": [
    {
     "data": {
      "text/plain": [
       "array([122.02, 131.73, 130.6 , 131.82, 132.05, 126.12, 124.43, 132.89,\n",
       "       122.79, 129.95, 126.14, 134.45, 127.64, 125.68])"
      ]
     },
     "execution_count": 4,
     "metadata": {},
     "output_type": "execute_result"
    }
   ],
   "source": [
    "sample = np.array(df['무게'])\n",
    "sample"
   ]
  },
  {
   "cell_type": "code",
   "execution_count": 6,
   "id": "bb2ab332",
   "metadata": {},
   "outputs": [
    {
     "data": {
      "text/plain": [
       "128.4507142857143"
      ]
     },
     "execution_count": 6,
     "metadata": {},
     "output_type": "execute_result"
    }
   ],
   "source": [
    "s_mean = sample.mean()\n",
    "s_mean"
   ]
  },
  {
   "cell_type": "markdown",
   "id": "f073bfcc",
   "metadata": {},
   "source": [
    "## 11.1 통계적 가설검정\n",
    "### 11.1.1 통계적 가설검정의 기본\n",
    "- 감자튀김 모평균이 130g보다 적은지 여부. 감자튀김의 모집단이 정규분포를 따르고 있고, 모분산이 9임을 알고 있다 가정\n",
    "- 우선 모평균이 130g이라는 가정을 하고, 이를 기초로 감자튀김 14개의 표본은 N(130,9)를 따르고, 표본 평균은 N(130, 9/14)를 따르는 것이 됨\n",
    "- 표본 평균은 확률변수이므로, 125g이라는 작은 값이 되기도 하고, 135g이라는 큰 값이 되기도 함"
   ]
  },
  {
   "cell_type": "code",
   "execution_count": 7,
   "id": "c24189bc",
   "metadata": {},
   "outputs": [
    {
     "data": {
      "text/plain": [
       "128.68118313069039"
      ]
     },
     "execution_count": 7,
     "metadata": {},
     "output_type": "execute_result"
    }
   ],
   "source": [
    "rv = stats.norm(130, np.sqrt(9/14))\n",
    "rv.isf(0.95)"
   ]
  },
  {
   "cell_type": "markdown",
   "id": "ae012ef8",
   "metadata": {},
   "source": [
    "- 표본 평균이 128.681 이하의 무게가 되는 것은 5%의 확률로 발생\n",
    "- 감자튀김 표본평균이 128.451g이 되었던 것은 5%의 확률로 발생하는 드문 사건\n",
    "- 이건 우연이 아닌, 원래 모평균이 130g보다 작은 게 아닐까? 라는 생각을 하고 이에 따라 모평균이 130g보다 작다라고 결론을 내리는 것이 가설검정"
   ]
  },
  {
   "cell_type": "markdown",
   "id": "bc453355",
   "metadata": {},
   "source": [
    "## 11.1.2 단측검정과 양측검정\n",
    "- 모평균은 130g이 아니다 라는 대립가설로 가설검정 수행 가능. 작은 경우 뿐 아니라 큰 경우도 고려함. => 양측검정\n",
    "- 한쪽만 검정하는 가설검정 => 단측검정"
   ]
  },
  {
   "cell_type": "markdown",
   "id": "03aefd10",
   "metadata": {},
   "source": [
    "## 11.1.3 가설검정의 두 가지 오류\n",
    "- 제1종 오류: 귀무가설이 옳을 때, 귀무가설을 기각하는 오류\n",
    "    - 본래 검출하지 말아야 할 것을 검출하는 것을 오탐이라고 함\n",
    "    - 제1종 오류를 범하는 확률을 위험률이라 부르고 알파 기호\n",
    "- 제2종 오류: 대립가설이 옳을 때, 귀무가설을 채택하는 오류\n",
    "    - 본래 검출해야하는 것을 검출하지 못하는 것을 미탐이라고 함\n",
    "    - 제2종 오류를 범하는 확률은 베타 기호를 사용하고, 1-베타를 검정력이라고 부름"
   ]
  },
  {
   "cell_type": "code",
   "execution_count": 14,
   "id": "a488aeb6",
   "metadata": {},
   "outputs": [],
   "source": [
    "rv = stats.norm(130, 3)"
   ]
  },
  {
   "cell_type": "code",
   "execution_count": 15,
   "id": "5bf13693",
   "metadata": {},
   "outputs": [
    {
     "data": {
      "text/plain": [
       "0.052"
      ]
     },
     "execution_count": 15,
     "metadata": {},
     "output_type": "execute_result"
    }
   ],
   "source": [
    "# 1종 오류\n",
    "c = stats.norm().isf(0.95)\n",
    "n_samples = 10000\n",
    "cnt = 0\n",
    "for _ in range(n_samples):\n",
    "    sample_ = np.round(rv.rvs(14), 2)\n",
    "    s_mean_ = np.mean(sample_)\n",
    "    z = (s_mean_ - 130) / np.sqrt(9/14)\n",
    "    if z < c:\n",
    "        cnt += 1\n",
    "cnt / n_samples"
   ]
  },
  {
   "cell_type": "code",
   "execution_count": 17,
   "id": "9cbdd9fc",
   "metadata": {},
   "outputs": [],
   "source": [
    "rv = stats.norm(128, 3)"
   ]
  },
  {
   "cell_type": "code",
   "execution_count": 18,
   "id": "d6050776",
   "metadata": {},
   "outputs": [
    {
     "data": {
      "text/plain": [
       "0.197"
      ]
     },
     "execution_count": 18,
     "metadata": {},
     "output_type": "execute_result"
    }
   ],
   "source": [
    "# 2종 오류\n",
    "c = stats.norm().isf(0.95)\n",
    "n_samples = 10000\n",
    "cnt = 0\n",
    "for _ in range(n_samples):\n",
    "    sample_ = np.round(rv.rvs(14), 2)\n",
    "    s_mean_ = np.mean(sample_)\n",
    "    z = (s_mean_ - 130) / np.sqrt(9/14)\n",
    "    if z >= c:\n",
    "        cnt += 1\n",
    "cnt / n_samples"
   ]
  },
  {
   "cell_type": "markdown",
   "id": "450380dd",
   "metadata": {},
   "source": [
    "## 11.2 기본적인 가설검정\n",
    "### 11.2.1 정규분포의 모형균에 대한 검정: 모분산을 알고 있는 경우\n",
    "- 모평균이 어떤 값이 아니라고 주장하기 위한 검정"
   ]
  },
  {
   "cell_type": "code",
   "execution_count": 21,
   "id": "8400649e",
   "metadata": {},
   "outputs": [],
   "source": [
    "def pmean_test(sample, mean0, p_var, alpha=0.05):\n",
    "    s_mean = np.mean(sample)\n",
    "    n = len(sample)\n",
    "    rv = stats.norm()\n",
    "    interval = rv.interval(1-alpha)\n",
    "    \n",
    "    z = (s_mean - mean0) / np.sqrt(p_var/n)\n",
    "    if interval[0] <= z <= interval[1]:\n",
    "        print('귀무가설을 채택')\n",
    "    else:\n",
    "        print('귀무가설을 기각')\n",
    "    \n",
    "    if z < 0:\n",
    "        p = rv.cdf(z) * 2\n",
    "    else:\n",
    "        p = (1 - rv.cdf(z)) * 1\n",
    "    print(f' p 값은 {p:.3f}')"
   ]
  },
  {
   "cell_type": "code",
   "execution_count": 23,
   "id": "a5c7117b",
   "metadata": {},
   "outputs": [
    {
     "name": "stdout",
     "output_type": "stream",
     "text": [
      "귀무가설을 채택\n",
      " p 값은 0.053\n"
     ]
    }
   ],
   "source": [
    "pmean_test(sample, 130, 9)"
   ]
  },
  {
   "cell_type": "markdown",
   "id": "2afbc250",
   "metadata": {},
   "source": [
    "### 11.2.2 정규분포의 모분산에 대한 검정\n",
    "- 모분산이 어떤 값이 아닌 것을 주장하기 위한 검정\n",
    "- $Y = \\frac{(n-1)*s^2}{\\sigma}$ 을 검정통계량으로 사용, $Y \\sim \\chi^2 (n-1)$이 되는 것을 이용 "
   ]
  },
  {
   "cell_type": "code",
   "execution_count": 27,
   "id": "33405f86",
   "metadata": {},
   "outputs": [],
   "source": [
    "def pvar_test(sample, var0, alpha=0.05):\n",
    "    u_var = np.var(sample, ddof=1)\n",
    "    n = len(sample)\n",
    "    rv = stats.chi2(df=n-1)\n",
    "    interval = rv.interval(1-alpha)\n",
    "    \n",
    "    y = (n-1) * u_var / var0\n",
    "    if interval[0] <= y <= interval[1]:\n",
    "        print('귀무가설을 채택')\n",
    "    else:\n",
    "        print('귀무가설을 기각')\n",
    "    \n",
    "    if y < rv.isf(0.95):\n",
    "        p = rv.cdf(y) * 2\n",
    "    else:\n",
    "        p = (1 - rv.cdf(y)) * 2\n",
    "    print(f' p값은 {p:.3f} ')"
   ]
  },
  {
   "cell_type": "code",
   "execution_count": 29,
   "id": "743b0075",
   "metadata": {},
   "outputs": [
    {
     "name": "stdout",
     "output_type": "stream",
     "text": [
      "귀무가설을 채택\n",
      " p값은 0.085 \n"
     ]
    }
   ],
   "source": [
    "pvar_test(sample, 9)"
   ]
  },
  {
   "cell_type": "markdown",
   "id": "028eb812",
   "metadata": {},
   "source": [
    "### 11.2.3 정규분포의 모평균에 대한 검정: 모분산을 모르는 경우\n",
    "- 모분산을 알지 못하는 상황에서 정규분포의 모평균에 대한 검정을 1표본 t검정이라 부르고, t통계량을 검정통계량으로 사용\n",
    "- t 검정통계량은 자유도가 n-1인 t분포를 따름"
   ]
  },
  {
   "cell_type": "code",
   "execution_count": 30,
   "id": "6ea046e8",
   "metadata": {},
   "outputs": [],
   "source": [
    "def pmean_test(sample, mean0, alpha=0.05):\n",
    "    s_mean = np.mean(sample)\n",
    "    u_var = np.var(sample, ddof=1)\n",
    "    n = len(sample)\n",
    "    rv = stats.t(df=n-1)\n",
    "    interval = rv.interval(1-alpha)\n",
    "    \n",
    "    t = (s_mean - mean0) / np.sqrt(u_var/n)\n",
    "    if interval[0] <= t <= interval[1]:\n",
    "        print('귀무가설을 채택')\n",
    "    else:\n",
    "        print('귀무가설을 기각')\n",
    "    \n",
    "    if t < 0:\n",
    "        p = rv.cdf(t) * 2\n",
    "    else:\n",
    "        p = (1 - rv.cdf(t)) * 2\n",
    "    print(f' p값은 {p:.3f}')"
   ]
  },
  {
   "cell_type": "code",
   "execution_count": 31,
   "id": "df88ebe2",
   "metadata": {},
   "outputs": [
    {
     "name": "stdout",
     "output_type": "stream",
     "text": [
      "귀무가설을 채택\n",
      " p값은 0.169\n"
     ]
    }
   ],
   "source": [
    "pmean_test(sample, 130)"
   ]
  },
  {
   "cell_type": "code",
   "execution_count": null,
   "id": "9d80701f",
   "metadata": {},
   "outputs": [],
   "source": [
    "# scipy.stats에 ttest_1samp 함수로 구현돼있음. 반환값으로 t검정통계량과 p값.\n",
    "t, p = stats.ttest_1"
   ]
  }
 ],
 "metadata": {
  "kernelspec": {
   "display_name": "Python 3 (ipykernel)",
   "language": "python",
   "name": "python3"
  },
  "language_info": {
   "codemirror_mode": {
    "name": "ipython",
    "version": 3
   },
   "file_extension": ".py",
   "mimetype": "text/x-python",
   "name": "python",
   "nbconvert_exporter": "python",
   "pygments_lexer": "ipython3",
   "version": "3.9.7"
  }
 },
 "nbformat": 4,
 "nbformat_minor": 5
}
