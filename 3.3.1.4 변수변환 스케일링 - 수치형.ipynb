{
 "cells": [
  {
   "cell_type": "markdown",
   "id": "ea55747d",
   "metadata": {},
   "source": [
    "# 데이터 가공 및 시각화\n",
    "- 1. 전처리\n",
    "    - 결측값 처리: 단순대치, 평균 대치, 단순확률 대치 (Hot-deck, nearest neighbor), 다중 대치, knnImputation, centralimputation\n",
    "    - 클래스불균형: 업샘플링 (SMOTE, Boaderline SMOTE, Adasyn), 다운샘플링\n",
    "    - 이상값 처리: 극단값 절단, 조정\n",
    "    - **변수 변환, 스케일링: 수치형 변수 변환(로그변환, 제곱근변환, 지수변환, 제곱변환, Box-cox 변환, 표준화, 정규화), 범주형 변수 변환(범주형 변수 인코딩, 대규모 범주형 변수처리), 날짜 및 변수 변환,  피쳐스케일링**\n",
    "    - 원핫인코딩(더미변수), 컬럼 트랜스퍼, 구간분할, 이산화, 피쳐선택\n",
    "- 2. 표본 추출: 단순랜덤 추출법, 계통추출법, 집락추출법, 층화추출법\n",
    "- 3. 데이터 분할: 구축/검정/시험용, 홀드아웃방법, 교차확인방법 (10 fold 교차분석), 부트스트랩\n",
    "- 4. 그래프 그리기:\n",
    "    - 산점도, 막대그래프, 선그래프, 히트맵, 서브플롯, 트리맵, 도넛차트, 버블차트, 히스토그램, 체르노프 페이스, 스타차트, 다차원척도법, 평행좌표계\n",
    "    - 도식화와 시각화"
   ]
  },
  {
   "cell_type": "markdown",
   "id": "05d70d27",
   "metadata": {},
   "source": [
    "## 변수변환 (Feature Scaling)\n",
    "변수변환이란, feature의 스케일을 바꾸는 feature 정규화를 의미\n",
    "\n",
    "입력 feature들의 스케일이 서로 크게 다른 상황에서 유용\n",
    "\n",
    "어떤 수치형 feature들은 무한히 증가하기 때문에 선형회귀나 로지스틱 회귀 등과 같이 입력에 대한 평활 함수인 모델은 입력의 스케일에 영향을 받음\n",
    "\n",
    "반면, 트리 기반 모델은 입력의 스케일에 그다지 신경 쓰지 않아도 됨\n",
    "\n",
    "모델이 입력 feature의 스케일에 민감하다면 변수 변환이 도움이 될 수 있음\n",
    "\n",
    "일반적으로 변수변환은 각 feature에 대해 개별적으로 수행. feature의 유형에 따라 다음과 같은 변수 변환 방법들이 있음.\n",
    "\n",
    "    - 수치형 변수 변환 (*옆의 괄호는 Scikit Learn의 함수명)\n",
    "        - 선형변환: 최소최대 스케일링(MinMaxScaler), 표준화(StandardScaler), 로버스트 스케일링(RobustScaler), 균등분포/RankGauss(QuantileTransformer)\n",
    "        - 비선형변환: 로그변환, 거듭제곱변환(PowerTransformer - Boxcox, YeoJohnson), 정규화(Normalizer - L1, L2, Max)\n",
    "        - 기타: 구간분할(=이산화, binning), 순위 변환\n",
    "    - 범주형 변수 변환\n",
    "        - 원핫인코딩(One-hot-encoding), 더미코딩(dummy coding), 이펙트코딩(Effect coding), 숫자로 표현된 범주형 특성, 레이블인코딩(Label encoding), 특징 해싱(Feature Hashing)"
   ]
  },
  {
   "cell_type": "code",
   "execution_count": 8,
   "id": "da27ecb7",
   "metadata": {},
   "outputs": [
    {
     "name": "stdout",
     "output_type": "stream",
     "text": [
      "<class 'pandas.core.frame.DataFrame'>\n",
      "RangeIndex: 918 entries, 0 to 917\n",
      "Data columns (total 12 columns):\n",
      " #   Column          Non-Null Count  Dtype  \n",
      "---  ------          --------------  -----  \n",
      " 0   Age             918 non-null    int64  \n",
      " 1   Sex             918 non-null    object \n",
      " 2   ChestPainType   918 non-null    object \n",
      " 3   RestingBP       918 non-null    int64  \n",
      " 4   Cholesterol     918 non-null    int64  \n",
      " 5   FastingBS       918 non-null    int64  \n",
      " 6   RestingECG      918 non-null    object \n",
      " 7   MaxHR           918 non-null    int64  \n",
      " 8   ExerciseAngina  918 non-null    object \n",
      " 9   Oldpeak         916 non-null    float64\n",
      " 10  ST_Slope        918 non-null    object \n",
      " 11  HeartDisease    918 non-null    int64  \n",
      "dtypes: float64(1), int64(6), object(5)\n",
      "memory usage: 86.2+ KB\n"
     ]
    }
   ],
   "source": [
    "import pandas as pd\n",
    "import numpy as np\n",
    "import matplotlib.pyplot as plt\n",
    "\n",
    "df = pd.read_csv('/Users/benny/Desktop/datascience/heart.csv', na_values=['','NA',-1,9999])\n",
    "df.info()"
   ]
  },
  {
   "cell_type": "code",
   "execution_count": 9,
   "id": "98c24bb1",
   "metadata": {},
   "outputs": [],
   "source": [
    "X = df[['Age', 'RestingBP', 'Cholesterol', 'MaxHR', 'Oldpeak']]\n",
    "y = df['HeartDisease']\n",
    "\n",
    "from sklearn.model_selection import train_test_split\n",
    "X_train, X_test, Y_train, Y_test = train_test_split(X, y, stratify=y, test_size=0.2, random_state=42)"
   ]
  },
  {
   "cell_type": "code",
   "execution_count": 11,
   "id": "e3170f7e",
   "metadata": {},
   "outputs": [
    {
     "data": {
      "text/html": [
       "<div>\n",
       "<style scoped>\n",
       "    .dataframe tbody tr th:only-of-type {\n",
       "        vertical-align: middle;\n",
       "    }\n",
       "\n",
       "    .dataframe tbody tr th {\n",
       "        vertical-align: top;\n",
       "    }\n",
       "\n",
       "    .dataframe thead th {\n",
       "        text-align: right;\n",
       "    }\n",
       "</style>\n",
       "<table border=\"1\" class=\"dataframe\">\n",
       "  <thead>\n",
       "    <tr style=\"text-align: right;\">\n",
       "      <th></th>\n",
       "      <th>Age</th>\n",
       "      <th>RestingBP</th>\n",
       "      <th>Cholesterol</th>\n",
       "      <th>MaxHR</th>\n",
       "      <th>Oldpeak</th>\n",
       "    </tr>\n",
       "  </thead>\n",
       "  <tbody>\n",
       "    <tr>\n",
       "      <th>485</th>\n",
       "      <td>63</td>\n",
       "      <td>139</td>\n",
       "      <td>217</td>\n",
       "      <td>128</td>\n",
       "      <td>1.2</td>\n",
       "    </tr>\n",
       "    <tr>\n",
       "      <th>486</th>\n",
       "      <td>55</td>\n",
       "      <td>110</td>\n",
       "      <td>214</td>\n",
       "      <td>180</td>\n",
       "      <td>0.4</td>\n",
       "    </tr>\n",
       "    <tr>\n",
       "      <th>117</th>\n",
       "      <td>59</td>\n",
       "      <td>130</td>\n",
       "      <td>338</td>\n",
       "      <td>130</td>\n",
       "      <td>1.5</td>\n",
       "    </tr>\n",
       "    <tr>\n",
       "      <th>361</th>\n",
       "      <td>47</td>\n",
       "      <td>160</td>\n",
       "      <td>0</td>\n",
       "      <td>124</td>\n",
       "      <td>0.0</td>\n",
       "    </tr>\n",
       "    <tr>\n",
       "      <th>296</th>\n",
       "      <td>50</td>\n",
       "      <td>145</td>\n",
       "      <td>0</td>\n",
       "      <td>139</td>\n",
       "      <td>0.7</td>\n",
       "    </tr>\n",
       "    <tr>\n",
       "      <th>...</th>\n",
       "      <td>...</td>\n",
       "      <td>...</td>\n",
       "      <td>...</td>\n",
       "      <td>...</td>\n",
       "      <td>...</td>\n",
       "    </tr>\n",
       "    <tr>\n",
       "      <th>276</th>\n",
       "      <td>51</td>\n",
       "      <td>135</td>\n",
       "      <td>160</td>\n",
       "      <td>150</td>\n",
       "      <td>2.0</td>\n",
       "    </tr>\n",
       "    <tr>\n",
       "      <th>201</th>\n",
       "      <td>46</td>\n",
       "      <td>120</td>\n",
       "      <td>230</td>\n",
       "      <td>150</td>\n",
       "      <td>0.0</td>\n",
       "    </tr>\n",
       "    <tr>\n",
       "      <th>462</th>\n",
       "      <td>59</td>\n",
       "      <td>122</td>\n",
       "      <td>233</td>\n",
       "      <td>117</td>\n",
       "      <td>1.3</td>\n",
       "    </tr>\n",
       "    <tr>\n",
       "      <th>252</th>\n",
       "      <td>61</td>\n",
       "      <td>125</td>\n",
       "      <td>292</td>\n",
       "      <td>115</td>\n",
       "      <td>0.0</td>\n",
       "    </tr>\n",
       "    <tr>\n",
       "      <th>62</th>\n",
       "      <td>45</td>\n",
       "      <td>140</td>\n",
       "      <td>224</td>\n",
       "      <td>144</td>\n",
       "      <td>0.0</td>\n",
       "    </tr>\n",
       "  </tbody>\n",
       "</table>\n",
       "<p>734 rows × 5 columns</p>\n",
       "</div>"
      ],
      "text/plain": [
       "     Age  RestingBP  Cholesterol  MaxHR  Oldpeak\n",
       "485   63        139          217    128      1.2\n",
       "486   55        110          214    180      0.4\n",
       "117   59        130          338    130      1.5\n",
       "361   47        160            0    124      0.0\n",
       "296   50        145            0    139      0.7\n",
       "..   ...        ...          ...    ...      ...\n",
       "276   51        135          160    150      2.0\n",
       "201   46        120          230    150      0.0\n",
       "462   59        122          233    117      1.3\n",
       "252   61        125          292    115      0.0\n",
       "62    45        140          224    144      0.0\n",
       "\n",
       "[734 rows x 5 columns]"
      ]
     },
     "execution_count": 11,
     "metadata": {},
     "output_type": "execute_result"
    }
   ],
   "source": [
    "X_train"
   ]
  },
  {
   "cell_type": "markdown",
   "id": "f0bd4448",
   "metadata": {},
   "source": [
    "### 수치형 변수의 선형변환 - 1) 최소최대 스케일링 (Min-Max Scaling) with MinMaxScaler"
   ]
  },
  {
   "cell_type": "code",
   "execution_count": 12,
   "id": "39eec003",
   "metadata": {},
   "outputs": [
    {
     "data": {
      "text/html": [
       "<div>\n",
       "<style scoped>\n",
       "    .dataframe tbody tr th:only-of-type {\n",
       "        vertical-align: middle;\n",
       "    }\n",
       "\n",
       "    .dataframe tbody tr th {\n",
       "        vertical-align: top;\n",
       "    }\n",
       "\n",
       "    .dataframe thead th {\n",
       "        text-align: right;\n",
       "    }\n",
       "</style>\n",
       "<table border=\"1\" class=\"dataframe\">\n",
       "  <thead>\n",
       "    <tr style=\"text-align: right;\">\n",
       "      <th></th>\n",
       "      <th>Age</th>\n",
       "      <th>RestingBP</th>\n",
       "      <th>Cholesterol</th>\n",
       "      <th>MaxHR</th>\n",
       "      <th>Oldpeak</th>\n",
       "    </tr>\n",
       "  </thead>\n",
       "  <tbody>\n",
       "    <tr>\n",
       "      <th>0</th>\n",
       "      <td>0.708333</td>\n",
       "      <td>0.435185</td>\n",
       "      <td>0.359867</td>\n",
       "      <td>0.478873</td>\n",
       "      <td>0.463415</td>\n",
       "    </tr>\n",
       "    <tr>\n",
       "      <th>1</th>\n",
       "      <td>0.541667</td>\n",
       "      <td>0.166667</td>\n",
       "      <td>0.354892</td>\n",
       "      <td>0.845070</td>\n",
       "      <td>0.365854</td>\n",
       "    </tr>\n",
       "    <tr>\n",
       "      <th>2</th>\n",
       "      <td>0.625000</td>\n",
       "      <td>0.351852</td>\n",
       "      <td>0.560531</td>\n",
       "      <td>0.492958</td>\n",
       "      <td>0.500000</td>\n",
       "    </tr>\n",
       "    <tr>\n",
       "      <th>3</th>\n",
       "      <td>0.375000</td>\n",
       "      <td>0.629630</td>\n",
       "      <td>0.000000</td>\n",
       "      <td>0.450704</td>\n",
       "      <td>0.317073</td>\n",
       "    </tr>\n",
       "    <tr>\n",
       "      <th>4</th>\n",
       "      <td>0.437500</td>\n",
       "      <td>0.490741</td>\n",
       "      <td>0.000000</td>\n",
       "      <td>0.556338</td>\n",
       "      <td>0.402439</td>\n",
       "    </tr>\n",
       "    <tr>\n",
       "      <th>...</th>\n",
       "      <td>...</td>\n",
       "      <td>...</td>\n",
       "      <td>...</td>\n",
       "      <td>...</td>\n",
       "      <td>...</td>\n",
       "    </tr>\n",
       "    <tr>\n",
       "      <th>729</th>\n",
       "      <td>0.458333</td>\n",
       "      <td>0.398148</td>\n",
       "      <td>0.265340</td>\n",
       "      <td>0.633803</td>\n",
       "      <td>0.560976</td>\n",
       "    </tr>\n",
       "    <tr>\n",
       "      <th>730</th>\n",
       "      <td>0.354167</td>\n",
       "      <td>0.259259</td>\n",
       "      <td>0.381426</td>\n",
       "      <td>0.633803</td>\n",
       "      <td>0.317073</td>\n",
       "    </tr>\n",
       "    <tr>\n",
       "      <th>731</th>\n",
       "      <td>0.625000</td>\n",
       "      <td>0.277778</td>\n",
       "      <td>0.386401</td>\n",
       "      <td>0.401408</td>\n",
       "      <td>0.475610</td>\n",
       "    </tr>\n",
       "    <tr>\n",
       "      <th>732</th>\n",
       "      <td>0.666667</td>\n",
       "      <td>0.305556</td>\n",
       "      <td>0.484245</td>\n",
       "      <td>0.387324</td>\n",
       "      <td>0.317073</td>\n",
       "    </tr>\n",
       "    <tr>\n",
       "      <th>733</th>\n",
       "      <td>0.333333</td>\n",
       "      <td>0.444444</td>\n",
       "      <td>0.371476</td>\n",
       "      <td>0.591549</td>\n",
       "      <td>0.317073</td>\n",
       "    </tr>\n",
       "  </tbody>\n",
       "</table>\n",
       "<p>734 rows × 5 columns</p>\n",
       "</div>"
      ],
      "text/plain": [
       "          Age  RestingBP  Cholesterol     MaxHR   Oldpeak\n",
       "0    0.708333   0.435185     0.359867  0.478873  0.463415\n",
       "1    0.541667   0.166667     0.354892  0.845070  0.365854\n",
       "2    0.625000   0.351852     0.560531  0.492958  0.500000\n",
       "3    0.375000   0.629630     0.000000  0.450704  0.317073\n",
       "4    0.437500   0.490741     0.000000  0.556338  0.402439\n",
       "..        ...        ...          ...       ...       ...\n",
       "729  0.458333   0.398148     0.265340  0.633803  0.560976\n",
       "730  0.354167   0.259259     0.381426  0.633803  0.317073\n",
       "731  0.625000   0.277778     0.386401  0.401408  0.475610\n",
       "732  0.666667   0.305556     0.484245  0.387324  0.317073\n",
       "733  0.333333   0.444444     0.371476  0.591549  0.317073\n",
       "\n",
       "[734 rows x 5 columns]"
      ]
     },
     "execution_count": 12,
     "metadata": {},
     "output_type": "execute_result"
    }
   ],
   "source": [
    "from sklearn.preprocessing import MinMaxScaler\n",
    "mms = MinMaxScaler()\n",
    "mms.fit(X_train) # 훈련세트에 있는 특성마다 최소값과 최대값을 계산\n",
    "X_train_scaled = mms.transform(X_train)\n",
    "# or mms.fit_transform(X_train)\n",
    "X_train_scaled_df = pd.DataFrame(X_train_scaled, columns=X_train.columns)\n",
    "X_train_scaled_df"
   ]
  },
  {
   "cell_type": "code",
   "execution_count": 14,
   "id": "fe65213e",
   "metadata": {},
   "outputs": [
    {
     "name": "stdout",
     "output_type": "stream",
     "text": [
      "(734, 5) (734, 5)\n",
      "Age            29.0\n",
      "RestingBP      92.0\n",
      "Cholesterol     0.0\n",
      "MaxHR          60.0\n",
      "Oldpeak        -2.6\n",
      "dtype: float64 \n",
      "\n",
      " Age             77.0\n",
      "RestingBP      200.0\n",
      "Cholesterol    603.0\n",
      "MaxHR          202.0\n",
      "Oldpeak          5.6\n",
      "dtype: float64 \n",
      "\n",
      " Age            0.0\n",
      "RestingBP      0.0\n",
      "Cholesterol    0.0\n",
      "MaxHR          0.0\n",
      "Oldpeak        0.0\n",
      "dtype: float64 \n",
      "\n",
      " Age            1.0\n",
      "RestingBP      1.0\n",
      "Cholesterol    1.0\n",
      "MaxHR          1.0\n",
      "Oldpeak        1.0\n",
      "dtype: float64 \n",
      "\n",
      "\n"
     ]
    }
   ],
   "source": [
    "# 스케일링 전후 데이터 shape 비교\n",
    "print(X_train.shape, X_train_scaled_df.shape)\n",
    "\n",
    "# 스케일링 전 각 열의 min&max vs 스케일링 후 각 열의 min&max\n",
    "# 스케일링 후 각 열의 값은 0과 1 사이가 되었음\n",
    "print(X_train.min(axis=0), \"\\n\\n\", X_train.max(axis=0), \"\\n\\n\",\n",
    "     X_train_scaled_df.min(axis=0), \"\\n\\n\", X_train_scaled_df.max(axis=0), \"\\n\\n\",)"
   ]
  },
  {
   "cell_type": "code",
   "execution_count": 16,
   "id": "224c133e",
   "metadata": {},
   "outputs": [
    {
     "name": "stdout",
     "output_type": "stream",
     "text": [
      "Age           -0.020833\n",
      "RestingBP     -0.851852\n",
      "Cholesterol    0.000000\n",
      "MaxHR          0.140845\n",
      "Oldpeak        0.304878\n",
      "dtype: float64 Age            0.958333\n",
      "RestingBP      0.925926\n",
      "Cholesterol    0.859038\n",
      "MaxHR          0.950704\n",
      "Oldpeak        1.073171\n",
      "dtype: float64\n"
     ]
    }
   ],
   "source": [
    "# 테스트 데이터 변환\n",
    "X_test_scaled_df = pd.DataFrame(mms.transform(X_test), columns=X_train.columns)\n",
    "print(X_test_scaled_df.min(axis=0), X_test_scaled_df.max(axis=0))\n",
    "\n",
    "# MinMaxScaler 및 다른 모든 스케일 모델들은 항상 훈련 세트와 테스트 세트에 같은 변환을 적용해야 함\n",
    "# 그렇기 때문에 일부 특성은 0~1 범위를 벗어나게 됨.\n",
    "# transform 메서드는 테스트 세트의 최소값과 범위를 사용하지 않고, 훈련 세트의 최소값을 빼고 훈련 세트의 범위로 나눔"
   ]
  },
  {
   "cell_type": "markdown",
   "id": "2e59f153",
   "metadata": {},
   "source": [
    "### 수치형 변수의 선형변환 - 2) 표준화 (Standardization) with StandardScaler\n",
    "\n",
    "선형회귀나 로지스틱 회귀 등의 선형모델에서는 값의 범위가 큰 변수일 수록 회귀계수가 작아지므로 표준화하지 않으면 그런 변수의 정규화가 어려워짐\n",
    "\n",
    "신경망에서도 변수들 간의 값의 범위가 크게 차이나는 상태로는 학습이 잘 진행되지 않을 때가 많음\n",
    "\n",
    "0과 1 이진변수에 대해서는 표준화를 실시하지 않아도 된다."
   ]
  },
  {
   "cell_type": "code",
   "execution_count": 24,
   "id": "aee0a3ae",
   "metadata": {},
   "outputs": [
    {
     "data": {
      "image/png": "[encoded data removed]",
      "text/plain": [
       "<Figure size 432x288 with 6 Axes>"
      ]
     },
     "metadata": {
      "needs_background": "light"
     },
     "output_type": "display_data"
    }
   ],
   "source": [
    "from sklearn.preprocessing import StandardScaler\n",
    "ss = StandardScaler()\n",
    "X_train_ss = ss.fit_transform(X_train)\n",
    "pd.DataFrame(X_train_ss, columns=X_train.columns).hist()\n",
    "plt.subplots_adjust(hspace=1)\n",
    "plt.show()"
   ]
  },
  {
   "cell_type": "markdown",
   "id": "06845cf8",
   "metadata": {},
   "source": [
    "### 수치형 변수의 선형변환 - 3) Robust Scaling with RobustScaler\n",
    "특성들이 같은 스케일을 같게 된다는 통계적 측면에서는 표준화와 비슷하지만 평균과 분산 대신 중앙값(median)과 사분위수(quantile)을 사용\n",
    "\n",
    "이 때문에 RobustScaler는 이상치의 영향을 받지 않음. (데이터값-중간값)/(3사분위수 - 1사분위수)로 구함"
   ]
  },
  {
   "cell_type": "code",
   "execution_count": 25,
   "id": "f87d27b7",
   "metadata": {},
   "outputs": [
    {
     "data": {
      "text/html": [
       "<div>\n",
       "<style scoped>\n",
       "    .dataframe tbody tr th:only-of-type {\n",
       "        vertical-align: middle;\n",
       "    }\n",
       "\n",
       "    .dataframe tbody tr th {\n",
       "        vertical-align: top;\n",
       "    }\n",
       "\n",
       "    .dataframe thead th {\n",
       "        text-align: right;\n",
       "    }\n",
       "</style>\n",
       "<table border=\"1\" class=\"dataframe\">\n",
       "  <thead>\n",
       "    <tr style=\"text-align: right;\">\n",
       "      <th></th>\n",
       "      <th>Age</th>\n",
       "      <th>RestingBP</th>\n",
       "      <th>Cholesterol</th>\n",
       "      <th>MaxHR</th>\n",
       "      <th>Oldpeak</th>\n",
       "    </tr>\n",
       "  </thead>\n",
       "  <tbody>\n",
       "    <tr>\n",
       "      <th>0</th>\n",
       "      <td>0.571429</td>\n",
       "      <td>0.428571</td>\n",
       "      <td>-0.089136</td>\n",
       "      <td>-0.270270</td>\n",
       "      <td>0.466667</td>\n",
       "    </tr>\n",
       "    <tr>\n",
       "      <th>1</th>\n",
       "      <td>0.000000</td>\n",
       "      <td>-0.952381</td>\n",
       "      <td>-0.122563</td>\n",
       "      <td>1.135135</td>\n",
       "      <td>-0.066667</td>\n",
       "    </tr>\n",
       "    <tr>\n",
       "      <th>2</th>\n",
       "      <td>0.285714</td>\n",
       "      <td>0.000000</td>\n",
       "      <td>1.259053</td>\n",
       "      <td>-0.216216</td>\n",
       "      <td>0.666667</td>\n",
       "    </tr>\n",
       "    <tr>\n",
       "      <th>3</th>\n",
       "      <td>-0.571429</td>\n",
       "      <td>1.428571</td>\n",
       "      <td>-2.506964</td>\n",
       "      <td>-0.378378</td>\n",
       "      <td>-0.333333</td>\n",
       "    </tr>\n",
       "    <tr>\n",
       "      <th>4</th>\n",
       "      <td>-0.357143</td>\n",
       "      <td>0.714286</td>\n",
       "      <td>-2.506964</td>\n",
       "      <td>0.027027</td>\n",
       "      <td>0.133333</td>\n",
       "    </tr>\n",
       "    <tr>\n",
       "      <th>...</th>\n",
       "      <td>...</td>\n",
       "      <td>...</td>\n",
       "      <td>...</td>\n",
       "      <td>...</td>\n",
       "      <td>...</td>\n",
       "    </tr>\n",
       "    <tr>\n",
       "      <th>729</th>\n",
       "      <td>-0.285714</td>\n",
       "      <td>0.238095</td>\n",
       "      <td>-0.724234</td>\n",
       "      <td>0.324324</td>\n",
       "      <td>1.000000</td>\n",
       "    </tr>\n",
       "    <tr>\n",
       "      <th>730</th>\n",
       "      <td>-0.642857</td>\n",
       "      <td>-0.476190</td>\n",
       "      <td>0.055710</td>\n",
       "      <td>0.324324</td>\n",
       "      <td>-0.333333</td>\n",
       "    </tr>\n",
       "    <tr>\n",
       "      <th>731</th>\n",
       "      <td>0.285714</td>\n",
       "      <td>-0.380952</td>\n",
       "      <td>0.089136</td>\n",
       "      <td>-0.567568</td>\n",
       "      <td>0.533333</td>\n",
       "    </tr>\n",
       "    <tr>\n",
       "      <th>732</th>\n",
       "      <td>0.428571</td>\n",
       "      <td>-0.238095</td>\n",
       "      <td>0.746518</td>\n",
       "      <td>-0.621622</td>\n",
       "      <td>-0.333333</td>\n",
       "    </tr>\n",
       "    <tr>\n",
       "      <th>733</th>\n",
       "      <td>-0.714286</td>\n",
       "      <td>0.476190</td>\n",
       "      <td>-0.011142</td>\n",
       "      <td>0.162162</td>\n",
       "      <td>-0.333333</td>\n",
       "    </tr>\n",
       "  </tbody>\n",
       "</table>\n",
       "<p>734 rows × 5 columns</p>\n",
       "</div>"
      ],
      "text/plain": [
       "          Age  RestingBP  Cholesterol     MaxHR   Oldpeak\n",
       "0    0.571429   0.428571    -0.089136 -0.270270  0.466667\n",
       "1    0.000000  -0.952381    -0.122563  1.135135 -0.066667\n",
       "2    0.285714   0.000000     1.259053 -0.216216  0.666667\n",
       "3   -0.571429   1.428571    -2.506964 -0.378378 -0.333333\n",
       "4   -0.357143   0.714286    -2.506964  0.027027  0.133333\n",
       "..        ...        ...          ...       ...       ...\n",
       "729 -0.285714   0.238095    -0.724234  0.324324  1.000000\n",
       "730 -0.642857  -0.476190     0.055710  0.324324 -0.333333\n",
       "731  0.285714  -0.380952     0.089136 -0.567568  0.533333\n",
       "732  0.428571  -0.238095     0.746518 -0.621622 -0.333333\n",
       "733 -0.714286   0.476190    -0.011142  0.162162 -0.333333\n",
       "\n",
       "[734 rows x 5 columns]"
      ]
     },
     "execution_count": 25,
     "metadata": {},
     "output_type": "execute_result"
    }
   ],
   "source": [
    "from sklearn.preprocessing import RobustScaler\n",
    "rs = RobustScaler()\n",
    "X_train_rs = rs.fit_transform(X_train)\n",
    "pd.DataFrame(X_train_rs, columns=X_train.columns)"
   ]
  },
  {
   "cell_type": "code",
   "execution_count": 26,
   "id": "bc4804ac",
   "metadata": {},
   "outputs": [
    {
     "data": {
      "image/png": "[encoded data removed]",
      "text/plain": [
       "<Figure size 432x288 with 6 Axes>"
      ]
     },
     "metadata": {
      "needs_background": "light"
     },
     "output_type": "display_data"
    }
   ],
   "source": [
    "pd.DataFrame(X_train_rs, columns=X_train.columns).hist()\n",
    "plt.subplots_adjust(hspace=1)\n",
    "plt.show()"
   ]
  },
  {
   "cell_type": "markdown",
   "id": "538e56a6",
   "metadata": {},
   "source": [
    "### 수치형 변수의 선형변환 - 4) 균등분포, 정규분포(RankGauss) with QuantileTransformer\n",
    "Scikit Learn의 QuantileTransformer로 균등분포와 정규분포로의 선형변환이 가능\n",
    "\n",
    "균등분포는 1000개의 분위를 사용하여 데이터를 균등하게 배포시키는 방법\n",
    "\n",
    "RobustScaler와 비슷하게 이상치에 민감하지 않으며 전체 데이터를 0과 1사이로 압축\n",
    "\n",
    "분위수는 n_quantiles 매개변수에서 설정할 수 있으며 기본값은 1000\n",
    "\n",
    "QuantileTransformer(output_distribution='uniform', n_quantiles=688) 식으로 코드를 작성\n",
    "\n",
    "여기서 output_distribution을 uniform으로 하면 균등분포가 되고, normal로 하면 정규분포가 됨\n",
    "\n",
    "RankGauss는 수치형 변수를 순위로 변환한 뒤 순서를 유지한 채 반강제로 정규분포가 되도록 변환하는 방법\n",
    "신경망에서 모델을 구축할 때의 변환으로서 일반적인 표준화보다 좋은 성능을 나타냄"
   ]
  },
  {
   "cell_type": "code",
   "execution_count": 27,
   "id": "014adf9c",
   "metadata": {},
   "outputs": [
    {
     "name": "stdout",
     "output_type": "stream",
     "text": [
      "[[0.83969986 0.62824011 0.44133697 0.38199181 0.66098226]\n",
      " [0.51568895 0.08253752 0.4154161  0.96725784 0.47885402]\n",
      " [0.68690314 0.46998636 0.95634379 0.40927694 0.73328786]\n",
      " ...\n",
      " [0.68690314 0.3260573  0.55252387 0.23260573 0.6787176 ]\n",
      " [0.7633015  0.3622101  0.85129604 0.20804911 0.22100955]\n",
      " [0.1957708  0.68963165 0.49454297 0.60231924 0.22100955]]\n"
     ]
    },
    {
     "data": {
      "image/png": "[encoded data removed]",
      "text/plain": [
       "<Figure size 432x288 with 6 Axes>"
      ]
     },
     "metadata": {
      "needs_background": "light"
     },
     "output_type": "display_data"
    }
   ],
   "source": [
    "from sklearn.preprocessing import QuantileTransformer\n",
    "\n",
    "QT = QuantileTransformer(output_distribution='uniform', n_quantiles=734)\n",
    "\n",
    "X_train_QT = QT.fit_transform(X_train)\n",
    "print(X_train_QT)\n",
    "\n",
    "# QuantileTransformer(균등분포): 0~1 사이\n",
    "pd.DataFrame(X_train_QT, columns=X_train.columns).hist()\n",
    "plt.subplots_adjust(hspace=1)\n",
    "plt.show()"
   ]
  },
  {
   "cell_type": "code",
   "execution_count": 29,
   "id": "64ace77a",
   "metadata": {},
   "outputs": [
    {
     "name": "stdout",
     "output_type": "stream",
     "text": [
      "[[ 0.99322509  0.32719582 -0.14758038 -0.30025372  0.41514539]\n",
      " [ 0.03933651 -1.38820367 -0.21363437  1.84193737 -0.05302994]\n",
      " [ 0.48709117 -0.07530416  1.70974837 -0.22940534  0.62278733]\n",
      " ...\n",
      " [ 0.48709117 -0.4508265   0.13204051 -0.73029242  0.46411577]\n",
      " [ 0.71696288 -0.35255752  1.04200812 -0.81320902 -0.76878812]\n",
      " [-0.85682499  0.49480652 -0.01367916  0.25935477 -0.76878812]]\n"
     ]
    },
    {
     "data": {
      "image/png": "[encoded data removed]",
      "text/plain": [
       "<Figure size 432x288 with 6 Axes>"
      ]
     },
     "metadata": {
      "needs_background": "light"
     },
     "output_type": "display_data"
    }
   ],
   "source": [
    "QT2 = QuantileTransformer(output_distribution='normal', n_quantiles=734)\n",
    "\n",
    "X_train_QT2 = QT2.fit_transform(X_train)\n",
    "print(X_train_QT2)\n",
    "\n",
    "# QuantileTransformer(균등분포): -5~5 사이\n",
    "pd.DataFrame(X_train_QT2, columns=X_train.columns).hist()\n",
    "plt.subplots_adjust(hspace=1)\n",
    "plt.show()"
   ]
  },
  {
   "cell_type": "markdown",
   "id": "4f026b8d",
   "metadata": {},
   "source": [
    "### 수치형 변수의 비선형변환 - 1) 로그 변환(Log Scaling) with np.log1p\n",
    "로그변환은 두꺼운 꼬리분포(heavy-tailed distribution)를 갖는 양수로 된 데이터를 다루는 강력한 도구\n",
    "\n",
    "분포에서 값이 높은 쪽에 있는 긴 꼬리를 짧게 압축하고, 낮은 값 쪽의 머리가 길어지게 하기 때문\n",
    "\n",
    "가우시안 분포보다 꼬리 범위에 더 많은 확률 질량을 가짐\n",
    "\n",
    "Box-cox 변환의 매개변수 람다가 0일 때가 로그 변환임\n",
    "\n",
    "일반적으로 파이썬으로 로그 변환에 쓰이는 함수는 np.log1p"
   ]
  },
  {
   "cell_type": "code",
   "execution_count": 30,
   "id": "82786d13",
   "metadata": {},
   "outputs": [
    {
     "data": {
      "text/html": [
       "<div>\n",
       "<style scoped>\n",
       "    .dataframe tbody tr th:only-of-type {\n",
       "        vertical-align: middle;\n",
       "    }\n",
       "\n",
       "    .dataframe tbody tr th {\n",
       "        vertical-align: top;\n",
       "    }\n",
       "\n",
       "    .dataframe thead th {\n",
       "        text-align: right;\n",
       "    }\n",
       "</style>\n",
       "<table border=\"1\" class=\"dataframe\">\n",
       "  <thead>\n",
       "    <tr style=\"text-align: right;\">\n",
       "      <th></th>\n",
       "      <th>Age</th>\n",
       "    </tr>\n",
       "  </thead>\n",
       "  <tbody>\n",
       "    <tr>\n",
       "      <th>485</th>\n",
       "      <td>1.806180</td>\n",
       "    </tr>\n",
       "    <tr>\n",
       "      <th>486</th>\n",
       "      <td>1.748188</td>\n",
       "    </tr>\n",
       "    <tr>\n",
       "      <th>117</th>\n",
       "      <td>1.778151</td>\n",
       "    </tr>\n",
       "    <tr>\n",
       "      <th>361</th>\n",
       "      <td>1.681241</td>\n",
       "    </tr>\n",
       "    <tr>\n",
       "      <th>296</th>\n",
       "      <td>1.707570</td>\n",
       "    </tr>\n",
       "    <tr>\n",
       "      <th>...</th>\n",
       "      <td>...</td>\n",
       "    </tr>\n",
       "    <tr>\n",
       "      <th>276</th>\n",
       "      <td>1.716003</td>\n",
       "    </tr>\n",
       "    <tr>\n",
       "      <th>201</th>\n",
       "      <td>1.672098</td>\n",
       "    </tr>\n",
       "    <tr>\n",
       "      <th>462</th>\n",
       "      <td>1.778151</td>\n",
       "    </tr>\n",
       "    <tr>\n",
       "      <th>252</th>\n",
       "      <td>1.792392</td>\n",
       "    </tr>\n",
       "    <tr>\n",
       "      <th>62</th>\n",
       "      <td>1.662758</td>\n",
       "    </tr>\n",
       "  </tbody>\n",
       "</table>\n",
       "<p>734 rows × 1 columns</p>\n",
       "</div>"
      ],
      "text/plain": [
       "          Age\n",
       "485  1.806180\n",
       "486  1.748188\n",
       "117  1.778151\n",
       "361  1.681241\n",
       "296  1.707570\n",
       "..        ...\n",
       "276  1.716003\n",
       "201  1.672098\n",
       "462  1.778151\n",
       "252  1.792392\n",
       "62   1.662758\n",
       "\n",
       "[734 rows x 1 columns]"
      ]
     },
     "execution_count": 30,
     "metadata": {},
     "output_type": "execute_result"
    }
   ],
   "source": [
    "# 상용로그+1\n",
    "X_train_log = np.log10(X_train.filter(['Age'])+1) # 리뷰카운트가 0인 경우 음의 무한대가 되는 것을 방지하기 위해 +1\n",
    "X_train_log"
   ]
  },
  {
   "cell_type": "code",
   "execution_count": 31,
   "id": "cd0993ae",
   "metadata": {},
   "outputs": [],
   "source": [
    "X_train_log2 = np.log(X_train.filter(['Age'])) # 자연로그 #box-cox lambda=0\n",
    "X_train_log3 = np.log1p(X_train.filter(['Age'])) # 자연로그+1\n",
    "# 절대값 자연로그에 원래 부호붙임 (마이너스인 경우도 사용가능)\n",
    "X_train_log4 = np.sign(X_train.filter(['Age']))*np.log(np.abs(X_train.filter(['Age'])))"
   ]
  },
  {
   "cell_type": "code",
   "execution_count": 35,
   "id": "ad108ed5",
   "metadata": {},
   "outputs": [
    {
     "data": {
      "image/png": "[encoded data removed]",
      "text/plain": [
       "<Figure size 720x360 with 6 Axes>"
      ]
     },
     "metadata": {
      "needs_background": "light"
     },
     "output_type": "display_data"
    }
   ],
   "source": [
    "plt.rcParams['figure.figsize'] = (10, 5)\n",
    "fig, ax = plt.subplots(3, 2)\n",
    "ax[0][0].hist(pd.DataFrame(X_train['Age']))\n",
    "ax[1][0].hist(pd.DataFrame(X_train_log))\n",
    "ax[1][1].hist(pd.DataFrame(X_train_log2))\n",
    "ax[2][0].hist(pd.DataFrame(X_train_log3))\n",
    "ax[2][1].hist(pd.DataFrame(X_train_log4))\n",
    "plt.show()"
   ]
  },
  {
   "cell_type": "markdown",
   "id": "801f5681",
   "metadata": {},
   "source": [
    "### 수치형 변수의 비선형변환 - 2) 거듭제곱 변환 with PowerTransformer\n",
    "거듭제곱 변환은 로그변환을 일반화한 것. 분산 안정화 변환이라고도 한다.\n",
    "\n",
    "푸아송 분포는 평균과 분산이 동일한 값을 갖는 두꺼운 꼬리 분포로서 질량 중심이 커질 수록 분산도 커지고 꼬리도 굵어진다.\n",
    "\n",
    "거듭제곱 변환은 분산이 더이상 평균에 의존하지 않도록 변수의 분포를 바꾼다\n",
    "\n",
    "분포의 평균을 나타내는 람다가 증가할수록 분포의 최빈값이 오른쪽으로 이동할 뿐만 아니라 질량이 점점 퍼지면서 분산도 커진다.\n",
    "\n",
    "Scikit Learn 패키지의 PowerTransformer 함수를 사용하여 구현한다. method 매개변수에 'yeo-johnson', 'box-cox' 알고리즘을 지정할 수 있다. 기본은 'yeo-johnson'이다.\n",
    "\n",
    "한편, Scipy의 boxcox 함수를 사용하면 result, params = boxcox(data)를 통해 params에 최적의 파라미터가 할당된다.\n",
    "\n",
    "    - Box-cox: 주된 용도는 데이터를 정규분포에 가깝게 만들거나 데이터의 분산을 안정화하는 것으로, 정규성을 가정하는 분석법이나 정상성을 요구하는 분석법을 사용하기에 앞서 데이터의 전처리에 사용한다. 데이터가 모두 양수여야 한다는 전제조건이 있다. 보통은 데이터의 최소값이 양수가 되도록 어떤 값을 더해서 밀어주는 식(shift)으로 해결한다. 최대우도법이나 베이지안 기법을 통해 최적의 파라미터 람다의 값을 정할 수도 있다.\n",
    "     - Yeo-Johnson: Box-cox의 shift 방법이 마음에 들지 않는다면 실수 전체에 대해 일반화된 여-존슨 변환을 고려해볼 수 있다. 이 경우, 데이터가 양수/음수여도 된다."
   ]
  },
  {
   "cell_type": "code",
   "execution_count": 37,
   "id": "a446c1a8",
   "metadata": {},
   "outputs": [
    {
     "data": {
      "text/plain": [
       "1.403312313021437"
      ]
     },
     "execution_count": 37,
     "metadata": {},
     "output_type": "execute_result"
    }
   ],
   "source": [
    "from scipy.stats import boxcox\n",
    "result, params = boxcox(X_train['Age'])\n",
    "params"
   ]
  },
  {
   "cell_type": "code",
   "execution_count": 39,
   "id": "2467d664",
   "metadata": {},
   "outputs": [
    {
     "data": {
      "image/png": "[encoded data removed]",
      "text/plain": [
       "<Figure size 720x360 with 1 Axes>"
      ]
     },
     "metadata": {
      "needs_background": "light"
     },
     "output_type": "display_data"
    }
   ],
   "source": [
    "result2 = boxcox(X_train['Age'], lmbda=0) # X_train_log2, 4와 동일 (자연로그변환)\n",
    "plt.hist(result2)\n",
    "plt.show()"
   ]
  },
  {
   "cell_type": "code",
   "execution_count": 40,
   "id": "b8d4bc33",
   "metadata": {},
   "outputs": [
    {
     "data": {
      "image/png": "[encoded data removed]",
      "text/plain": [
       "<Figure size 720x360 with 1 Axes>"
      ]
     },
     "metadata": {
      "needs_background": "light"
     },
     "output_type": "display_data"
    }
   ],
   "source": [
    "plt.hist(result)\n",
    "plt.show()"
   ]
  },
  {
   "cell_type": "code",
   "execution_count": 44,
   "id": "b7ee26b4",
   "metadata": {},
   "outputs": [
    {
     "name": "stderr",
     "output_type": "stream",
     "text": [
      "/Users/benny/opt/anaconda3/envs/bennyspace/lib/python3.9/site-packages/sklearn/preprocessing/_data.py:3253: RuntimeWarning: divide by zero encountered in log\n",
      "  loglike = -n_samples / 2 * np.log(x_trans.var())\n"
     ]
    },
    {
     "data": {
      "image/png": "[encoded data removed]",
      "text/plain": [
       "<Figure size 720x360 with 2 Axes>"
      ]
     },
     "metadata": {
      "needs_background": "light"
     },
     "output_type": "display_data"
    }
   ],
   "source": [
    "from sklearn.preprocessing import PowerTransformer\n",
    "PTB = PowerTransformer(method='box-cox')\n",
    "PTY = PowerTransformer(method='yeo-johnson')\n",
    "\n",
    "X_train_PTB = PTB.fit_transform(X_train.filter(['Age', 'RestingBP'])) # 양수 데이터\n",
    "X_train_PTY = PTY.fit_transform(X_train)\n",
    "\n",
    "pd.DataFrame(X_train_PTB, columns=['Age','RestingBP']).hist()\n",
    "plt.show()"
   ]
  },
  {
   "cell_type": "code",
   "execution_count": 45,
   "id": "3de2eb13",
   "metadata": {},
   "outputs": [
    {
     "data": {
      "image/png": "[encoded data removed]",
      "text/plain": [
       "<Figure size 720x360 with 6 Axes>"
      ]
     },
     "metadata": {
      "needs_background": "light"
     },
     "output_type": "display_data"
    }
   ],
   "source": [
    "pd.DataFrame(X_train_PTY, columns=X_train.columns).hist()\n",
    "plt.show()"
   ]
  },
  {
   "cell_type": "markdown",
   "id": "6865dcb8",
   "metadata": {},
   "source": [
    "### 수치형 변수의 비선형변환 - 3) 정규화(Normalizing, Regularization) with normalize\n",
    "\n",
    "정규화는 머신러닝에서 overfitting을 방지하는 중요한 기법 중 하나로서 모델을 구성하는 coefficient들이 학습 데이터에 overfitting되지 않도록 정규화 요소를 더해 주는 것이다.\n",
    "\n",
    "Norm 계산의 결과로 나오는 수치는 원점에서 벡터 좌표까지의 거리이며 이를 magnitude라고 부른다.\n",
    "\n",
    "L1, L2 정규화는 이같은 L1, L2 norm을 사용한 값들을 더해주는 것이다.\n",
    "\n",
    "따라서 overfitting이 심하게 발생할 수 있는 가능성이 큰 수치에 penalty를 부여한다.\n",
    "\n",
    "L2는 각 vector에 대해 unique한 값이 출력되는 반면 L1은 경우에 따라 특정 feature없이도 같은 값을 낼 수 있다.\n",
    "\n",
    "이에 따라 L1 norm은 feature selection에 사용 가능하며 특정 feature들을 0으로 처리해버리는 것이 가능하여 새당 coefficient들이 sparse한 형태를 가질 수 있게 된다.\n",
    "\n",
    "- ||x||1 = L1 norm: 벡터 간의 거리를 절대값으로 구함 -> 맨해튼 거리, L1 loss: 타겟값과 예측값의 차를 절대값으로 구한 것\n",
    "- ||x||2 = L2 norm: 벡터 간의 거리 -> 유클리드 거리, L2 loss: 타겟값과 예측값의 차의 제곱\n",
    "\n",
    "\n",
    "선형 회귀 모델에서 L1 규제를 주는 것이 lasso regression(릿지회귀와 동일하지만 𝐿1 norm을 제약한다는 점이 다름), 선형 회귀 모델에서 L2 규제를 주는 것이 Ridge regression(평균제곱오차를 최소화하면서 회귀계수 벡터 β의 𝐿2 norm을 제한하는 기법)이다.\n",
    "\n",
    "미래 데이터에 대한 오차의 기대값은 Bias와 Variance로 분해할 수 있는데 정규화는 variance를 감소시켜 일반화 성능을 높이는 기법이다. 이 과정에서 bias가 증가할 수는 있다.\n",
    "\n",
    "파이썬에서 정규화는  Scikit Learn의 normalize 함수로 구현할 수 있다.\n",
    "\n",
    "일반적으로 2차원 행렬과 함께 사용되며 L1, L2 정규화 옵션을 제공한다.\n",
    "\n",
    "\n",
    "norm 매개변수는 L1, L2, Max 세가지 옵션을 제공하며 유클리디안 거리를 의미하는 L2가 기본 값이다.\n",
    "\n",
    "StandardScaler, MinMaxScaler, RobustScaler는 열의 통계치를 이용하지만, normalize는 행마다 각기 정규화된다."
   ]
  },
  {
   "cell_type": "markdown",
   "id": "087ac123",
   "metadata": {},
   "source": [
    "### 수치형 변수 기타 - 1) 구간분할, 이산화 (Binning) with cut, KBinsDiscretizer\n",
    "구간분할 혹은 이산화는 수치형 변수를 구간별로 나누어 범주형 변수로 변환하는 방법이다.\n",
    "\n",
    "구간분할을 하면 순서가 있는 범주형 변수가 되므로 순서를 그대로 수치화할 수도 있고 범주형 변수로서 원핫 인코딩 등을 적용할 수도 있다.\n",
    "\n",
    "구간의 범주마다 다른 변수값을 집계할 수 있는 범주형 변수로 사용할 수 있다.\n",
    "\n",
    "같은 간격으로 분할하는 방법, 분위점을 이용하여 분할하는 방법, 구간 구분을 지정하여 분할하는 방법 등이 있다.\n",
    "\n",
    "pandas의 cut 함수로, 지정한 bins 수만큼 균일한 범위로 데이터를 분할 하거나 지정한 범위대로 데이터를 분할 할 수 있다.\n",
    "\n",
    "Scikit Learn의 KBinsDiscretizer 함수를 이용하면, 지정한 bins 수대로 데이터를 분할한 후 각 구간 별로 원핫인코딩을 적용할 수 있다.\n",
    "\n",
    "구간마다 하나의 새로운 특성이 생기므로 희소 행렬이 만들어진다."
   ]
  },
  {
   "cell_type": "code",
   "execution_count": 47,
   "id": "bcce5c2c",
   "metadata": {},
   "outputs": [
    {
     "data": {
      "text/plain": [
       "(48.2, 57.8]      250\n",
       "(57.8, 67.4]      234\n",
       "(38.6, 48.2]      157\n",
       "(28.952, 38.6]     50\n",
       "(67.4, 77.0]       43\n",
       "Name: Age, dtype: int64"
      ]
     },
     "execution_count": 47,
     "metadata": {},
     "output_type": "execute_result"
    }
   ],
   "source": [
    "binned = pd.cut(X_train['Age'], 5)\n",
    "binned.value_counts()"
   ]
  },
  {
   "cell_type": "code",
   "execution_count": 50,
   "id": "c3242434",
   "metadata": {},
   "outputs": [
    {
     "data": {
      "text/plain": [
       "(39.0, 59.0]    457\n",
       "(59.0, inf]     215\n",
       "(19.0, 39.0]     62\n",
       "(0.0, 19.0]       0\n",
       "Name: Age, dtype: int64"
      ]
     },
     "execution_count": 50,
     "metadata": {},
     "output_type": "execute_result"
    }
   ],
   "source": [
    "# bin의 범위를 지정\n",
    "bin_edges = [0, 19, 39, 59, float('inf')]\n",
    "binned2 = pd.cut(X_train['Age'], bin_edges)\n",
    "binned2.value_counts()"
   ]
  },
  {
   "cell_type": "code",
   "execution_count": 51,
   "id": "f47fb12a",
   "metadata": {},
   "outputs": [
    {
     "data": {
      "text/plain": [
       "485     (59.0, inf]\n",
       "486    (39.0, 59.0]\n",
       "117    (39.0, 59.0]\n",
       "361    (39.0, 59.0]\n",
       "296    (39.0, 59.0]\n",
       "730    (39.0, 59.0]\n",
       "451     (59.0, inf]\n",
       "291    (39.0, 59.0]\n",
       "92     (39.0, 59.0]\n",
       "765    (39.0, 59.0]\n",
       "Name: Age, dtype: category\n",
       "Categories (4, interval[float64, right]): [(0.0, 19.0] < (19.0, 39.0] < (39.0, 59.0] < (59.0, inf]]"
      ]
     },
     "execution_count": 51,
     "metadata": {},
     "output_type": "execute_result"
    }
   ],
   "source": [
    "binned2.head(10)"
   ]
  },
  {
   "cell_type": "code",
   "execution_count": 52,
   "id": "877562f8",
   "metadata": {},
   "outputs": [
    {
     "name": "stdout",
     "output_type": "stream",
     "text": [
      "[array([29. , 38.6, 48.2, 57.8, 67.4, 77. ])]\n"
     ]
    }
   ],
   "source": [
    "from sklearn.preprocessing import KBinsDiscretizer\n",
    "kb = KBinsDiscretizer(n_bins=5, strategy='uniform')\n",
    "kb.fit(np.array(X_train['Age']).reshape(-1,1))\n",
    "print(kb.bin_edges_)"
   ]
  },
  {
   "cell_type": "code",
   "execution_count": 53,
   "id": "2945ff72",
   "metadata": {},
   "outputs": [
    {
     "data": {
      "text/plain": [
       "485    63\n",
       "486    55\n",
       "117    59\n",
       "Name: Age, dtype: int64"
      ]
     },
     "execution_count": 53,
     "metadata": {},
     "output_type": "execute_result"
    }
   ],
   "source": [
    "X_train['Age'].head(3)"
   ]
  },
  {
   "cell_type": "code",
   "execution_count": 54,
   "id": "d9bca881",
   "metadata": {},
   "outputs": [
    {
     "data": {
      "text/plain": [
       "array([[0., 0., 0., 1., 0.],\n",
       "       [0., 0., 1., 0., 0.],\n",
       "       [0., 0., 0., 1., 0.],\n",
       "       ...,\n",
       "       [0., 0., 0., 1., 0.],\n",
       "       [0., 0., 0., 1., 0.],\n",
       "       [0., 1., 0., 0., 0.]])"
      ]
     },
     "execution_count": 54,
     "metadata": {},
     "output_type": "execute_result"
    }
   ],
   "source": [
    "kbinned = kb.transform(np.array(X_train['Age']).reshape(-1,1))\n",
    "kbinned.toarray()"
   ]
  },
  {
   "cell_type": "markdown",
   "id": "4ad409f2",
   "metadata": {},
   "source": [
    "### 수치형 변수 기타 - 2) 순위로 변환 with rank\n",
    "수치형 변수를 대소 관계에 따른 순위로 변환하는 방법이다.\n",
    "\n",
    "단순히 순위로 바꾸는 것 외에, 순위를 행 데이터의 수로 나누면 0부터 1의 범위에 들어가고, 값의 범위가 행 데이터의 수에 의존하지 않으므로 다루기 쉽다.\n",
    "\n",
    "수치의 크기나 간격 정보를 버리고 대소 관계만을 얻어내는 방법이다."
   ]
  },
  {
   "cell_type": "code",
   "execution_count": 58,
   "id": "c9b6b9cd",
   "metadata": {},
   "outputs": [
    {
     "data": {
      "text/plain": [
       "0    2.0\n",
       "1    3.0\n",
       "2    4.0\n",
       "3    1.0\n",
       "4    5.5\n",
       "5    5.5\n",
       "dtype: float64"
      ]
     },
     "execution_count": 58,
     "metadata": {},
     "output_type": "execute_result"
    }
   ],
   "source": [
    "x = [10, 20, 30, 0, 40, 40]\n",
    "pd.Series(x).rank() # 랭크 시작은 1, 같은 순위가 있을 경우 평균 순위가 됨 (5+6의 평균)"
   ]
  },
  {
   "cell_type": "code",
   "execution_count": null,
   "id": "f8fbded8",
   "metadata": {},
   "outputs": [],
   "source": []
  }
 ],
 "metadata": {
  "kernelspec": {
   "display_name": "Python 3 (ipykernel)",
   "language": "python",
   "name": "python3"
  },
  "language_info": {
   "codemirror_mode": {
    "name": "ipython",
    "version": 3
   },
   "file_extension": ".py",
   "mimetype": "text/x-python",
   "name": "python",
   "nbconvert_exporter": "python",
   "pygments_lexer": "ipython3",
   "version": "3.9.7"
  }
 },
 "nbformat": 4,
 "nbformat_minor": 5
}
